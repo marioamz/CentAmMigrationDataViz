{
 "cells": [
  {
   "cell_type": "code",
   "execution_count": 2,
   "metadata": {},
   "outputs": [],
   "source": [
    "import pandas as pd\n",
    "from collections import OrderedDict"
   ]
  },
  {
   "cell_type": "code",
   "execution_count": 16,
   "metadata": {},
   "outputs": [],
   "source": [
    "mex = pd.read_csv('d3data/mex2017.csv')\n",
    "usa = pd.read_csv('d3data/usa2017.csv')\n",
    "usavals = pd.read_csv('Values/ValoresUSA2017.csv', encoding='latin1')\n",
    "mexvals = pd.read_csv('Values/ValoreMex2017.csv', encoding='latin1')"
   ]
  },
  {
   "cell_type": "code",
   "execution_count": 18,
   "metadata": {},
   "outputs": [],
   "source": [
    "usadict = dict(usavals.set_index('Variable').groupby(level = 0).apply(lambda x : x.to_dict(orient= 'records')))\n",
    "mexdict = dict(usavals.set_index('Variable').groupby(level=0).apply(lambda x: x.to_dict(orient='records')))"
   ]
  },
  {
   "cell_type": "code",
   "execution_count": 61,
   "metadata": {},
   "outputs": [],
   "source": [
    "usa_dict = {}\n",
    "for k, v in usadict.items():\n",
    "    small_dict = {}\n",
    "    for dic in v: \n",
    "        for j in dic.values():\n",
    "            if type(j) is str:\n",
    "                a = j\n",
    "            else:\n",
    "                b = j\n",
    "            small_dict[b] = a\n",
    "    usa_dict[k] = small_dict\n",
    "        "
   ]
  },
  {
   "cell_type": "code",
   "execution_count": 80,
   "metadata": {},
   "outputs": [],
   "source": [
    "for k, v in usa_dict.items():\n",
    "    for col in usa:\n",
    "        if col == k:\n",
    "            usa[col] = usa[col].map(v).fillna(usa[col])\n"
   ]
  },
  {
   "cell_type": "code",
   "execution_count": 86,
   "metadata": {},
   "outputs": [],
   "source": [
    "mex_dict = {}\n",
    "for k, v in mexdict.items():\n",
    "    small_dict = {}\n",
    "    for dic in v: \n",
    "        for j in dic.values():\n",
    "            if type(j) is str:\n",
    "                a = j\n",
    "            else:\n",
    "                b = j\n",
    "            small_dict[b] = a\n",
    "    mex_dict[k] = small_dict"
   ]
  },
  {
   "cell_type": "code",
   "execution_count": 87,
   "metadata": {},
   "outputs": [],
   "source": [
    "for k, v in mex_dict.items():\n",
    "    for col in mex:\n",
    "        if col == k:\n",
    "            mex[col] = mex[col].map(v).fillna(mex[col])"
   ]
  },
  {
   "cell_type": "code",
   "execution_count": 91,
   "metadata": {},
   "outputs": [],
   "source": [
    "mex.to_csv('encodedmex.csv', encoding='latin1')\n",
    "usa.to_csv('encodeusa.csv', encoding='latin1')"
   ]
  }
 ],
 "metadata": {
  "kernelspec": {
   "display_name": "Python 3",
   "language": "python",
   "name": "python3"
  },
  "language_info": {
   "codemirror_mode": {
    "name": "ipython",
    "version": 3
   },
   "file_extension": ".py",
   "mimetype": "text/x-python",
   "name": "python",
   "nbconvert_exporter": "python",
   "pygments_lexer": "ipython3",
   "version": "3.7.1"
  }
 },
 "nbformat": 4,
 "nbformat_minor": 2
}
