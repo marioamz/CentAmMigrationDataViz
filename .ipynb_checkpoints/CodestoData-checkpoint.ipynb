{
 "cells": [
  {
   "cell_type": "code",
   "execution_count": 74,
   "metadata": {},
   "outputs": [
    {
     "data": {
      "text/plain": [
       "<module 'cwrangle' from '/Users/mariomoreno/Desktop/Grad School/Data Viz/Migration Project/cwrangle.py'>"
      ]
     },
     "execution_count": 74,
     "metadata": {},
     "output_type": "execute_result"
    }
   ],
   "source": [
    "import cwrangle as cw\n",
    "import importlib\n",
    "importlib.reload(cw)"
   ]
  },
  {
   "cell_type": "code",
   "execution_count": 75,
   "metadata": {},
   "outputs": [],
   "source": [
    "mex2017 = cw.go('d3data/mex2017.csv', 'Values/ValoreMex2017.csv', 'Variable', 'Mex', 2017)"
   ]
  },
  {
   "cell_type": "code",
   "execution_count": 77,
   "metadata": {},
   "outputs": [],
   "source": [
    "usa2017 = cw.go('d3data/usa2017.csv', 'Values/ValoresUSA2017.csv', 'Variable', 'USA', 2017)"
   ]
  },
  {
   "cell_type": "code",
   "execution_count": 79,
   "metadata": {},
   "outputs": [],
   "source": [
    "mex2017.to_csv('d3data/encodedmex.csv', encoding='latin1')\n",
    "usa2017.to_csv('d3data/encodedusa.csv', encoding='latin1')"
   ]
  }
 ],
 "metadata": {
  "kernelspec": {
   "display_name": "Python 3",
   "language": "python",
   "name": "python3"
  },
  "language_info": {
   "codemirror_mode": {
    "name": "ipython",
    "version": 3
   },
   "file_extension": ".py",
   "mimetype": "text/x-python",
   "name": "python",
   "nbconvert_exporter": "python",
   "pygments_lexer": "ipython3",
   "version": "3.7.1"
  }
 },
 "nbformat": 4,
 "nbformat_minor": 2
}
